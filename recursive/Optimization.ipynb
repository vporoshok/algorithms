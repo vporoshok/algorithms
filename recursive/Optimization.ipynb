{
 "cells": [
  {
   "cell_type": "code",
   "execution_count": 3,
   "metadata": {},
   "outputs": [],
   "source": [
    "import numpy as np\n",
    "from typing import Sequence"
   ]
  },
  {
   "cell_type": "markdown",
   "metadata": {},
   "source": [
    "# Задачи оптимизации"
   ]
  },
  {
   "cell_type": "markdown",
   "metadata": {},
   "source": [
    "## Введение<a name=\"introduce\"></a>\n",
    "\n",
    "В общем случае задача оптимизации является задачей поиска экстремума целевой функции в заданной области определения. Обычно в качестве целевой функции рассматривается гладкая функция $f\\colon \\mathbb R^n \\to \\mathbb R$, а в качестве области определения берётся замкнутое множество. Тогда в силу [теоремы Вейерштрасса](https://ru.wikipedia.org/wiki/Теорема_Вейерштрасса_о_функции_на_компакте) в заданной области достижим и минимум и максимум. При этом можно оптимизировать как минимум, так и максимум, однако чаще всего применяется оптимизация минимума. Одним из значительных применений задачи оптимизации является минимизация функции ошибки при обучении нейронных сетей."
   ]
  },
  {
   "cell_type": "markdown",
   "metadata": {},
   "source": [
    "## Целочисленная оптимизация<a name=\"integer\"></a>\n",
    "\n",
    "Однако, не всегда целевая функция является гладкой. Одним из подвидов задачи оптимизации является целочисленная или комбиноторная оптимизация. Рассмотрим несколько задач, решаемых этим методом."
   ]
  },
  {
   "cell_type": "markdown",
   "metadata": {},
   "source": [
    "### Задача о рюкзаке<a name=\"backpack\"></a>\n",
    "\n",
    "**Задача** Есть множество предметов, каждый из которых обладает двумя характеристиками: вес ($w$) и ценность ($v$). Необходимо выбрать подмножество из данных предметов, такое, чтобы суммарный вес выбранных предметов не превышал некоторое заданное число $w_{max}$, а суммарная ценность была максимальной.\n",
    "\n",
    "Есть различные вариации формулировки задачи, но все они так или иначе сводятся к задаче оптимизации. Действительно, пусть у нас есть $n$ различных предметов. Тогда подмножество предметов можно записать как вектор в $n$-мерном пространстве, где $i$-я координата обозначает включается данный предмет в это подмножество или нет ($1$ и $0$ соответственно). Рассмотрим два вектора: $W = (w_0, w_1, \\ldots, w_{n-1})$ и $V = (v_0, v_1, \\ldots, v_{n-1})$ — веса и ценность предметов. Тогда задача сводится к оптимизации функции $f(X) = (X,V)$ с ограничением $(X, W) \\leqslant w_{max}$. В некоторых формулировках задачи можно брать по несколько одинаковых предметов ($k$), таким образом дополнительным ограничением является $X \\in [0, k]^n$, в нашем случае $X \\in I^n$.\n",
    "\n",
    "Для целочисленного решения этой задачи чаще всего применяется метод ветвей и границ. Но для начала попробуем решить эту задачу «в лоб», полным перебором. Для простоты воспользуемся рекурсивной функцией."
   ]
  },
  {
   "cell_type": "code",
   "execution_count": 27,
   "metadata": {},
   "outputs": [
    {
     "name": "stdout",
     "output_type": "stream",
     "text": [
      "[1. 1. 0. 1. 1. 0. 1. 1. 1. 0.]\n"
     ]
    }
   ],
   "source": [
    "def brute_force(weights : Sequence[float], values : Sequence[float], max_weight : float) -> Sequence[float]:\n",
    "    n = len(weights)\n",
    "    assert len(values) == n\n",
    "    optimal_x = np.zeros(n)\n",
    "    optimal_value = 0\n",
    "    \n",
    "    def check(x : Sequence[float]):\n",
    "        nonlocal optimal_x, optimal_value\n",
    "        \n",
    "        weight = sum(x[i] * weights[i] for i in range(n))\n",
    "        if weight > max_weight:\n",
    "            \n",
    "            return\n",
    "        \n",
    "        value = sum((x[i] * values[i] for i in range(n)))\n",
    "        if value > optimal_value:\n",
    "            optimal_value = value\n",
    "            optimal_x = np.array(x, copy=True)\n",
    "            \n",
    "    def step(x : Sequence[float] = np.empty(0), i : int = 0):\n",
    "        if i == n:\n",
    "\n",
    "            return check(x)\n",
    "        \n",
    "        step(np.append(x, 0), i+1)\n",
    "        step(np.append(x, 1), i+1)\n",
    "        \n",
    "    step()\n",
    "    \n",
    "    return optimal_x\n",
    "\n",
    "weights = np.array([10, 11, 12, 13, 14, 15, 16, 17, 18, 19])\n",
    "values = np.array([18, 20, 17, 19, 25, 21, 27, 23, 25, 24])\n",
    "max_weight = 100\n",
    "\n",
    "print(brute_force(weights, values, max_weight))"
   ]
  },
  {
   "cell_type": "markdown",
   "metadata": {},
   "source": [
    "Собственно в приведённом решении перебираются все возможные подмножества предметов и для каждого проверяется, что вес набора не превосходит данный, а затем вычисляется ценность набора и сравнивается с предыдущим максимумом.\n",
    "\n",
    "По факту мы строим дерево всех возможных решений. Это бинарное дерево высоты $n$, где в каждой вершине мы выбираем: барть нам этот предмет или нет, разветвляясь.\n",
    "\n",
    "Первая оптимизация, которую мы можем выполнить, это отсечь те ветви, в которых вес уже превышает максимально допустимый. Кроме того, мы можем отсечь те ветви, в которых мы не сможем превысить имеющуюся на данный момент максимальную ценность, даже если возьмём все оставшиеся предметы."
   ]
  },
  {
   "cell_type": "code",
   "execution_count": 29,
   "metadata": {},
   "outputs": [
    {
     "name": "stdout",
     "output_type": "stream",
     "text": [
      "[1. 1. 0. 1. 1. 0. 1. 1. 1. 0.]\n"
     ]
    }
   ],
   "source": [
    "def pack_a_backpack(weights : Sequence[float], values : Sequence[float], max_weight : float) -> Sequence[float]:\n",
    "    n = len(weights)\n",
    "    assert len(values) == n\n",
    "    optimal_x = np.zeros(n)\n",
    "    optimal_value = 0\n",
    "    \n",
    "    def step(x : Sequence[float] = np.empty(0), i : int = 0, current_weight : float = 0, available_value : float = sum(values)):\n",
    "        nonlocal optimal_x, optimal_value\n",
    "\n",
    "        if i == n:\n",
    "            if available_value > optimal_value:\n",
    "                optimal_x = np.array(x, copy=True)\n",
    "                optimal_value = available_value\n",
    "                \n",
    "            return\n",
    "\n",
    "        if available_value - values[i] > optimal_value:\n",
    "            step(np.append(x, 0), i+1, current_weight, available_value - values[i])\n",
    "            \n",
    "        if current_weight + weights[i] <= max_weight:\n",
    "            step(np.append(x, 1), i+1, current_weight + weights[i], current_value)\n",
    "        \n",
    "    step()\n",
    "    \n",
    "    return optimal_x\n",
    "\n",
    "weights = np.array([10, 11, 12, 13, 14, 15, 16, 17, 18, 19])\n",
    "values = np.array([18, 20, 17, 19, 25, 21, 27, 23, 25, 24])\n",
    "max_weight = 100\n",
    "\n",
    "print(brute_force(weights, values, max_weight))"
   ]
  },
  {
   "cell_type": "markdown",
   "metadata": {},
   "source": [
    "Итак мы получили решение данной задачи методом ветвей и границ (branch and bound algorithm). В общем виде этот алгоритм можно записать следующим образом:\n",
    "```python\n",
    "def step(...):\n",
    "    if <условие завершения>:\n",
    "        if <решение оптимальное>:\n",
    "            <обновить оптимальное решение>\n",
    "            \n",
    "        return\n",
    "    \n",
    "    if <условие исключения>:\n",
    "        step(с исключением)\n",
    "        \n",
    "    if <условие включения>:\n",
    "        step(c включением)\n",
    "```\n",
    "Для закрепления, попробуем применить подобный подход к другой NP-полной задаче."
   ]
  },
  {
   "cell_type": "markdown",
   "metadata": {},
   "source": [
    "### Задача комивояжёра\n",
    "\n",
    "**Задача** Есть множество городов, в которых комивояжёр должен побывать. Между городами есть различные пути сообщения с различными ценами за проезд. Как выбрать оптимальный маршрут так, чтобы побывать во всех городах и потратить минимальную сумму денег.\n",
    "\n",
    "Данную задачу можно рассматривать как задачу поиска во взешанном графе гамильтонова цикла с минимальным весом."
   ]
  }
 ],
 "metadata": {
  "kernelspec": {
   "display_name": "Python 3",
   "language": "python",
   "name": "python3"
  },
  "language_info": {
   "codemirror_mode": {
    "name": "ipython",
    "version": 3
   },
   "file_extension": ".py",
   "mimetype": "text/x-python",
   "name": "python",
   "nbconvert_exporter": "python",
   "pygments_lexer": "ipython3",
   "version": "3.6.5"
  }
 },
 "nbformat": 4,
 "nbformat_minor": 2
}
