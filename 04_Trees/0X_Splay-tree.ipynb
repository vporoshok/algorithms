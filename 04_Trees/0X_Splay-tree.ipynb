{
 "cells": [
  {
   "cell_type": "markdown",
   "metadata": {},
   "source": [
    "# Splay-деревья\n",
    "\n",
    "Splay-деревья являются примером самобалансирующихся бинарных деревьев поиска. Важным достоинством этого вида деревьев является простота конструкции и принципов работы. ПРи этом надо помнить, о том, что оценки сложности операций для данной структуры являются учётными и отдельная операция может сильно их превышать. Но давайте начнём с определений."
   ]
  }
 ],
 "metadata": {
  "kernelspec": {
   "display_name": "Python 3",
   "language": "python",
   "name": "python3"
  },
  "language_info": {
   "codemirror_mode": {
    "name": "ipython",
    "version": 3
   },
   "file_extension": ".py",
   "mimetype": "text/x-python",
   "name": "python",
   "nbconvert_exporter": "python",
   "pygments_lexer": "ipython3",
   "version": "3.6.3"
  }
 },
 "nbformat": 4,
 "nbformat_minor": 2
}
